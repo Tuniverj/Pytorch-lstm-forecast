{
 "cells": [
  {
   "cell_type": "code",
   "execution_count": 1,
   "metadata": {},
   "outputs": [],
   "source": [
    "import os\n",
    "import numpy as np\n",
    "import pandas as pd\n",
    "import matplotlib.pyplot as plt\n",
    "from sklearn.preprocessing import MinMaxScaler\n",
    "from sklearn.metrics import mean_squared_error\n",
    "from sklearn.metrics import mean_absolute_error\n",
    "import torch\n",
    "from torch import nn, optim\n",
    "from torch.autograd import Variable\n",
    "from torch.utils.data import DataLoader\n",
    "import torch.utils.data as Data\n",
    "from torchvision import transforms, datasets"
   ]
  },
  {
   "cell_type": "code",
   "execution_count": 35,
   "metadata": {},
   "outputs": [],
   "source": [
    "# 文件读取\n",
    "def get_Data(data_path):\n",
    "\n",
    "    data=pd.read_excel(data_path)\n",
    "    data=data.iloc[:,:3]  # 以三个特征作为数据\n",
    "    label=data.iloc[:,2:] # 取最后一个特征作为标签\n",
    "    print(data.head())\n",
    "    print(label.head())\n",
    "    return data,label"
   ]
  },
  {
   "cell_type": "code",
   "execution_count": 36,
   "metadata": {},
   "outputs": [],
   "source": [
    "# 数据预处理\n",
    "def normalization(data,label):\n",
    "\n",
    "    mm_x=MinMaxScaler() # 导入sklearn的预处理容器\n",
    "    mm_y=MinMaxScaler()\n",
    "    data=data.values    # 将pd的系列格式转换为np的数组格式\n",
    "    label=label.values\n",
    "    data=mm_x.fit_transform(data) # 对数据和标签进行归一化等处理\n",
    "    label=mm_y.fit_transform(label)\n",
    "    return data,label,mm_y"
   ]
  },
  {
   "cell_type": "code",
   "execution_count": 43,
   "metadata": {},
   "outputs": [],
   "source": [
    "# 时间向量转换\n",
    "def split_windows(data,seq_length):\n",
    "\n",
    "    x=[]\n",
    "    y=[]\n",
    "    for i in range(len(data)-seq_length-1): # range的范围需要减去时间步长和1\n",
    "        _x=data[i:(i+seq_length),:]\n",
    "        _y=data[i+seq_length,-1]\n",
    "        x.append(_x)\n",
    "        y.append(_y)\n",
    "    x,y=np.array(x),np.array(y)\n",
    "    print('x.shape,y.shape=\\n',x.shape,y.shape)\n",
    "    return x,y"
   ]
  },
  {
   "cell_type": "code",
   "execution_count": 44,
   "metadata": {},
   "outputs": [],
   "source": [
    "# 数据分离\n",
    "def split_data(x,y,split_ratio):\n",
    "\n",
    "    train_size=int(len(y)*split_ratio)\n",
    "    test_size=len(y)-train_size\n",
    "\n",
    "    x_data=Variable(torch.Tensor(np.array(x)))\n",
    "    y_data=Variable(torch.Tensor(np.array(y)))\n",
    "\n",
    "    x_train=Variable(torch.Tensor(np.array(x[0:train_size])))\n",
    "    y_train=Variable(torch.Tensor(np.array(y[0:train_size])))\n",
    "    y_test=Variable(torch.Tensor(np.array(y[train_size:len(y)])))\n",
    "    x_test=Variable(torch.Tensor(np.array(x[train_size:len(x)])))\n",
    "\n",
    "    print('x_data.shape,y_data.shape,x_train.shape,y_train.shape,x_test.shape,y_test.shape:\\n{}{}{}{}{}{}'\n",
    "    .format(x_data.shape,y_data.shape,x_train.shape,y_train.shape,x_test.shape,y_test.shape))\n",
    "\n",
    "    return x_data,y_data,x_train,y_train,x_test,y_test"
   ]
  },
  {
   "cell_type": "code",
   "execution_count": 52,
   "metadata": {},
   "outputs": [],
   "source": [
    "# 数据装入\n",
    "def data_generator(x_train,y_train,x_test,y_test,n_iters,batch_size):\n",
    "\n",
    "    num_epochs=n_iters/(len(x_train)/batch_size) # n_iters代表一次迭代\n",
    "    num_epochs=int(num_epochs)\n",
    "    train_dataset=Data.TensorDataset(x_train,y_train)\n",
    "    test_dataset=Data.TensorDataset(x_train,y_train)\n",
    "    train_loader=torch.utils.data.DataLoader(dataset=train_dataset,batch_size=batch_size,shuffle=False,drop_last=True) # 加载数据集,使数据集可迭代\n",
    "    test_loader=torch.utils.data.DataLoader(dataset=test_dataset,batch_size=batch_size,shuffle=False,drop_last=True)\n",
    "\n",
    "    return train_loader,test_loader,num_epochs"
   ]
  },
  {
   "cell_type": "code",
   "execution_count": 90,
   "metadata": {},
   "outputs": [],
   "source": [
    "# 定义模型\n",
    "from turtle import forward\n",
    "import torch.nn as nn\n",
    "import torch.nn.functional as F\n",
    "\n",
    "# 定义一个类\n",
    "class Net(nn.Module):\n",
    "    def __init__(self,input_size,hidden_size,num_layers,output_size,batch_size,seq_length) -> None:\n",
    "        super(Net,self).__init__()\n",
    "        self.input_size=input_size\n",
    "        self.hidden_size=hidden_size\n",
    "        self.num_layers=num_layers\n",
    "        self.output_size=output_size\n",
    "        self.batch_size=batch_size\n",
    "        self.seq_length=seq_length\n",
    "        self.num_directions=1 # 单向LSTM\n",
    "\n",
    "        self.lstm=nn.LSTM(input_size=input_size,hidden_size=hidden_size,num_layers=num_layers,batch_first=True) # LSTM层\n",
    "        self.fc=nn.Linear(hidden_size,output_size) # 全连接层\n",
    "\n",
    "    def forward(self,x):\n",
    "        # h_0=Variable(torch.zeros(self.num_layers,x.size(0),self.output_size))\n",
    "        # c_0=Variable(torch.zeros(self.num_layers,x.size(0),self.output_size))# 初始化h_0和c_0\n",
    "\n",
    "        # pred, (h_out, _) = self.lstm(x, (h_0, c_0))\n",
    "        # h_out = h_out.view(-1, self.hidden_size)\n",
    "        # out = self.fc(h_out)\n",
    "\n",
    "        # e.g.  x(10,3,100) 三个句子，十个单词，一百维的向量,nn.LSTM(input_size=100,hidden_size=20,num_layers=4)\n",
    "        # out.shape=(10,3,20) h/c.shape=(4,b,20)\n",
    "        batch_size, seq_len = x.size()[0], x.size()[1]    # x.shape=(604,3,3)\n",
    "        h_0 = torch.randn(self.num_directions * self.num_layers, x.size(0), self.hidden_size)\n",
    "        c_0 = torch.randn(self.num_directions * self.num_layers, x.size(0), self.hidden_size)\n",
    "        # output(batch_size, seq_len, num_directions * hidden_size)\n",
    "        output, _ = self.lstm(x, (h_0, c_0)) # output(5, 30, 64)\n",
    "        pred = self.fc(output)  # (5, 30, 1)\n",
    "        pred = pred[:, -1, :]  # (5, 1)\n",
    "        return pred"
   ]
  },
  {
   "cell_type": "code",
   "execution_count": 91,
   "metadata": {},
   "outputs": [
    {
     "name": "stdout",
     "output_type": "stream",
     "text": [
      "Net(\n",
      "  (lstm): LSTM(3, 12, num_layers=6, batch_first=True)\n",
      "  (fc): Linear(in_features=12, out_features=1, bias=True)\n",
      ")\n"
     ]
    }
   ],
   "source": [
    "# 参数设置\n",
    "seq_length=3 # 时间步长\n",
    "input_size=3\n",
    "num_layers=6\n",
    "hidden_size=12\n",
    "batch_size=64\n",
    "n_iters=5000\n",
    "lr=0.001\n",
    "output_size=1\n",
    "split_ratio=0.9\n",
    "path='.\\data.xls'\n",
    "moudle=Net(input_size,hidden_size,num_layers,output_size,batch_size,seq_length)\n",
    "criterion=torch.nn.MSELoss()\n",
    "optimizer=torch.optim.Adam(moudle.parameters(),lr=lr)\n",
    "print(moudle)"
   ]
  },
  {
   "cell_type": "code",
   "execution_count": 92,
   "metadata": {},
   "outputs": [
    {
     "name": "stdout",
     "output_type": "stream",
     "text": [
      "   导叶开度  燃料流量m3N/h  压气机出口温度\n",
      "0     1     0.0089      1.0\n",
      "1     2     0.0179      2.0\n",
      "2     3     0.0269      2.0\n",
      "3     6     0.0359      3.0\n",
      "4     8     0.0449      4.0\n",
      "   压气机出口温度\n",
      "0      1.0\n",
      "1      2.0\n",
      "2      2.0\n",
      "3      3.0\n",
      "4      4.0\n",
      "x.shape,y.shape=\n",
      " (604, 3, 3) (604,)\n",
      "x_data.shape,y_data.shape,x_train.shape,y_train.shape,x_test.shape,y_test.shape:\n",
      "torch.Size([604, 3, 3])torch.Size([604])torch.Size([543, 3, 3])torch.Size([543])torch.Size([61, 3, 3])torch.Size([61])\n"
     ]
    }
   ],
   "source": [
    "# 数据导入\n",
    "data,label=get_Data(path)\n",
    "data,label,mm_y=normalization(data,label)\n",
    "x,y=split_windows(data,seq_length)\n",
    "x_data,y_data,x_train,y_train,x_test,y_test=split_data(x,y,split_ratio)\n",
    "train_loader,test_loader,num_epochs=data_generator(x_train,y_train,x_test,y_test,n_iters,batch_size)"
   ]
  },
  {
   "cell_type": "code",
   "execution_count": 93,
   "metadata": {},
   "outputs": [
    {
     "name": "stderr",
     "output_type": "stream",
     "text": [
      "c:\\Users\\zgtstxyhs\\Anaconda3\\lib\\site-packages\\torch\\nn\\modules\\loss.py:529: UserWarning: Using a target size (torch.Size([64])) that is different to the input size (torch.Size([64, 1])). This will likely lead to incorrect results due to broadcasting. Please ensure they have the same size.\n",
      "  return F.mse_loss(input, target, reduction=self.reduction)\n"
     ]
    },
    {
     "name": "stdout",
     "output_type": "stream",
     "text": [
      "iter: 100, loss: 0.02329\n",
      "iter: 200, loss: 0.10282\n",
      "iter: 300, loss: 0.02548\n",
      "iter: 400, loss: 0.10001\n",
      "iter: 500, loss: 0.00962\n",
      "iter: 600, loss: 0.00524\n",
      "iter: 700, loss: 0.00088\n",
      "iter: 800, loss: 0.00394\n",
      "iter: 900, loss: 0.00101\n",
      "iter: 1000, loss: 0.00378\n",
      "iter: 1100, loss: 0.00064\n",
      "iter: 1200, loss: 0.00363\n",
      "iter: 1300, loss: 0.00052\n",
      "iter: 1400, loss: 0.00364\n",
      "iter: 1500, loss: 0.00081\n",
      "iter: 1600, loss: 0.00341\n",
      "iter: 1700, loss: 0.00062\n",
      "iter: 1800, loss: 0.00353\n",
      "iter: 1900, loss: 0.00106\n",
      "iter: 2000, loss: 0.00353\n",
      "iter: 2100, loss: 0.00048\n",
      "iter: 2200, loss: 0.00408\n",
      "iter: 2300, loss: 0.00059\n",
      "iter: 2400, loss: 0.00331\n",
      "iter: 2500, loss: 0.00039\n",
      "iter: 2600, loss: 0.00393\n",
      "iter: 2700, loss: 0.00068\n",
      "iter: 2800, loss: 0.00337\n",
      "iter: 2900, loss: 0.00031\n",
      "iter: 3000, loss: 0.00370\n",
      "iter: 3100, loss: 0.00053\n",
      "iter: 3200, loss: 0.00320\n",
      "iter: 3300, loss: 0.00028\n",
      "iter: 3400, loss: 0.00381\n",
      "iter: 3500, loss: 0.00051\n",
      "iter: 3600, loss: 0.00325\n",
      "iter: 3700, loss: 0.00031\n",
      "iter: 3800, loss: 0.00349\n",
      "iter: 3900, loss: 0.00053\n",
      "iter: 4000, loss: 0.00322\n",
      "iter: 4100, loss: 0.00036\n",
      "iter: 4200, loss: 0.00347\n",
      "iter: 4300, loss: 0.00067\n",
      "iter: 4400, loss: 0.00332\n",
      "iter: 4500, loss: 0.00022\n",
      "iter: 4600, loss: 0.00380\n",
      "iter: 4700, loss: 0.00032\n"
     ]
    }
   ],
   "source": [
    "# train\n",
    "iter=0\n",
    "for epochs in range(num_epochs):\n",
    "  for i,(batch_x, batch_y) in enumerate (train_loader):\n",
    "    outputs = moudle(batch_x)\n",
    "    optimizer.zero_grad()   # 将每次传播时的梯度累积清除\n",
    "    # print(outputs.shape, batch_y.shape)\n",
    "    loss = criterion(outputs,batch_y) # 计算损失\n",
    "    loss.backward() # 反向传播\n",
    "    optimizer.step()\n",
    "    iter+=1\n",
    "    if iter % 100 == 0:\n",
    "      print(\"iter: %d, loss: %1.5f\" % (iter, loss.item()))"
   ]
  },
  {
   "cell_type": "code",
   "execution_count": 94,
   "metadata": {},
   "outputs": [
    {
     "name": "stdout",
     "output_type": "stream",
     "text": [
      "torch.Size([604, 3, 3])\n"
     ]
    }
   ],
   "source": [
    "print(x_data.shape)"
   ]
  },
  {
   "cell_type": "code",
   "execution_count": 95,
   "metadata": {},
   "outputs": [],
   "source": [
    "moudle.eval()\n",
    "train_predict = moudle(x_data)"
   ]
  },
  {
   "cell_type": "code",
   "execution_count": 96,
   "metadata": {},
   "outputs": [
    {
     "data": {
      "image/png": "[encoded data removed]",
      "text/plain": [
       "<Figure size 432x288 with 1 Axes>"
      ]
     },
     "metadata": {
      "needs_background": "light"
     },
     "output_type": "display_data"
    },
    {
     "name": "stdout",
     "output_type": "stream",
     "text": [
      "MAE/RMSE\n",
      "35.114613\n",
      "75.8706\n"
     ]
    },
    {
     "data": {
      "image/png": "[encoded data removed]",
      "text/plain": [
       "<Figure size 432x288 with 1 Axes>"
      ]
     },
     "metadata": {
      "needs_background": "light"
     },
     "output_type": "display_data"
    },
    {
     "name": "stdout",
     "output_type": "stream",
     "text": [
      "MAE/RMSE\n",
      "213.30313\n",
      "213.31061\n"
     ]
    }
   ],
   "source": [
    "def result(x_data, y_data):\n",
    "  moudle.eval()\n",
    "  train_predict = moudle(x_data)\n",
    "\n",
    "  data_predict = train_predict.data.numpy()\n",
    "  y_data_plot = y_data.data.numpy()\n",
    "  y_data_plot = np.reshape(y_data_plot, (-1,1))  \n",
    "  data_predict = mm_y.inverse_transform(data_predict)\n",
    "  y_data_plot = mm_y.inverse_transform(y_data_plot)\n",
    "\n",
    "  plt.plot(y_data_plot)\n",
    "  plt.plot(data_predict)\n",
    "  plt.legend(('real', 'predict'),fontsize='15')\n",
    "  plt.show()\n",
    "\n",
    "  print('MAE/RMSE')\n",
    "  print(mean_absolute_error(y_data_plot, data_predict))\n",
    "  print(np.sqrt(mean_squared_error(y_data_plot, data_predict) ))\n",
    "\n",
    "result(x_data, y_data)\n",
    "result(x_test,y_test)"
   ]
  }
 ],
 "metadata": {
  "kernelspec": {
   "display_name": "Python 3.7.13 ('base')",
   "language": "python",
   "name": "python3"
  },
  "language_info": {
   "codemirror_mode": {
    "name": "ipython",
    "version": 3
   },
   "file_extension": ".py",
   "mimetype": "text/x-python",
   "name": "python",
   "nbconvert_exporter": "python",
   "pygments_lexer": "ipython3",
   "version": "3.7.13"
  },
  "orig_nbformat": 4,
  "vscode": {
   "interpreter": {
    "hash": "2465f246fe55a8f17b5f20d95fe714d15bce5da9be997c2304a6164ed2b9ca5c"
   }
  }
 },
 "nbformat": 4,
 "nbformat_minor": 2
}
